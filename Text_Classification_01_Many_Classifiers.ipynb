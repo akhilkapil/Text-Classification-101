{
  "nbformat": 4,
  "nbformat_minor": 0,
  "metadata": {
    "colab": {
      "name": "Text Classification_01_Many_Classifiers",
      "provenance": []
    },
    "kernelspec": {
      "name": "python3",
      "display_name": "Python 3"
    }
  },
  "cells": [
    {
      "cell_type": "code",
      "metadata": {
        "colab": {
          "base_uri": "https://localhost:8080/"
        },
        "id": "XvneJuIezp4h",
        "outputId": "3df1e3cb-e30d-4abe-80e0-8f0e31e943a3"
      },
      "source": [
        "import numpy as np\r\n",
        "import pandas as pd #to work with csv files\r\n",
        "\r\n",
        "#matplotlib imports are used to plot confusion matrices for the classifiers\r\n",
        "import matplotlib as mpl \r\n",
        "import matplotlib.cm as cm \r\n",
        "import matplotlib.pyplot as plt \r\n",
        "\r\n",
        "#import feature extraction methods from sklearn\r\n",
        "from sklearn.feature_extraction.text import CountVectorizer\r\n",
        "from sklearn.feature_extraction import stop_words\r\n",
        "\r\n",
        "#pre-processing of text\r\n",
        "import string\r\n",
        "import re\r\n",
        "\r\n",
        "#import classifiers from sklearn\r\n",
        "from sklearn.naive_bayes import MultinomialNB\r\n",
        "from sklearn.linear_model import LogisticRegression\r\n",
        "from sklearn.svm import LinearSVC\r\n",
        "\r\n",
        "#import different metrics to evaluate the classifiers\r\n",
        "from sklearn.metrics import accuracy_score\r\n",
        "#from sklearn.model_selection import train_test_split\r\n",
        "from sklearn.metrics import confusion_matrix \r\n",
        "from sklearn import metrics\r\n",
        "\r\n",
        "#import time function from time module to track the training duration\r\n",
        "from time import time"
      ],
      "execution_count": 5,
      "outputs": [
        {
          "output_type": "stream",
          "text": [
            "/usr/local/lib/python3.6/dist-packages/sklearn/utils/deprecation.py:144: FutureWarning: The sklearn.feature_extraction.stop_words module is  deprecated in version 0.22 and will be removed in version 0.24. The corresponding classes / functions should instead be imported from sklearn.feature_extraction.text. Anything that cannot be imported from sklearn.feature_extraction.text is now part of the private API.\n",
            "  warnings.warn(message, FutureWarning)\n"
          ],
          "name": "stderr"
        }
      ]
    },
    {
      "cell_type": "code",
      "metadata": {
        "colab": {
          "base_uri": "https://localhost:8080/",
          "height": 101
        },
        "id": "YQ6kK0uZ1wiR",
        "outputId": "be7b7f03-5b92-4ca0-b2e1-02116dd8c06b"
      },
      "source": [
        "data = pd.read_csv(\"DATAPATH/Full-Economic-News-DFE-839861.csv\" , encoding = \"ISO-8859-1\" )\r\n",
        "\r\n",
        "display(data.shape) #Number of rows (instances) and columns in the dataset\r\n",
        "data[\"relevance\"].value_counts()/our_data.shape[0] #Class distribution in the dataset"
      ],
      "execution_count": 8,
      "outputs": [
        {
          "output_type": "display_data",
          "data": {
            "text/plain": [
              "(8000, 15)"
            ]
          },
          "metadata": {
            "tags": []
          }
        },
        {
          "output_type": "execute_result",
          "data": {
            "text/plain": [
              "no          0.821375\n",
              "yes         0.177500\n",
              "not sure    0.001125\n",
              "Name: relevance, dtype: float64"
            ]
          },
          "metadata": {
            "tags": []
          },
          "execution_count": 8
        }
      ]
    },
    {
      "cell_type": "code",
      "metadata": {
        "colab": {
          "base_uri": "https://localhost:8080/",
          "height": 551
        },
        "id": "VnF5I-0p14j-",
        "outputId": "dd4b4bc6-c6ea-471f-d909-f1b94f0a3286"
      },
      "source": [
        "data.head()"
      ],
      "execution_count": 9,
      "outputs": [
        {
          "output_type": "execute_result",
          "data": {
            "text/html": [
              "<div>\n",
              "<style scoped>\n",
              "    .dataframe tbody tr th:only-of-type {\n",
              "        vertical-align: middle;\n",
              "    }\n",
              "\n",
              "    .dataframe tbody tr th {\n",
              "        vertical-align: top;\n",
              "    }\n",
              "\n",
              "    .dataframe thead th {\n",
              "        text-align: right;\n",
              "    }\n",
              "</style>\n",
              "<table border=\"1\" class=\"dataframe\">\n",
              "  <thead>\n",
              "    <tr style=\"text-align: right;\">\n",
              "      <th></th>\n",
              "      <th>_unit_id</th>\n",
              "      <th>_golden</th>\n",
              "      <th>_unit_state</th>\n",
              "      <th>_trusted_judgments</th>\n",
              "      <th>_last_judgment_at</th>\n",
              "      <th>positivity</th>\n",
              "      <th>positivity:confidence</th>\n",
              "      <th>relevance</th>\n",
              "      <th>relevance:confidence</th>\n",
              "      <th>articleid</th>\n",
              "      <th>date</th>\n",
              "      <th>headline</th>\n",
              "      <th>positivity_gold</th>\n",
              "      <th>relevance_gold</th>\n",
              "      <th>text</th>\n",
              "    </tr>\n",
              "  </thead>\n",
              "  <tbody>\n",
              "    <tr>\n",
              "      <th>0</th>\n",
              "      <td>842613455</td>\n",
              "      <td>False</td>\n",
              "      <td>finalized</td>\n",
              "      <td>3</td>\n",
              "      <td>12/5/15 17:48</td>\n",
              "      <td>3.0</td>\n",
              "      <td>0.6400</td>\n",
              "      <td>yes</td>\n",
              "      <td>0.640</td>\n",
              "      <td>wsj_398217788</td>\n",
              "      <td>8/14/91</td>\n",
              "      <td>Yields on CDs Fell in the Latest Week</td>\n",
              "      <td>NaN</td>\n",
              "      <td>NaN</td>\n",
              "      <td>NEW YORK -- Yields on most certificates of dep...</td>\n",
              "    </tr>\n",
              "    <tr>\n",
              "      <th>1</th>\n",
              "      <td>842613456</td>\n",
              "      <td>False</td>\n",
              "      <td>finalized</td>\n",
              "      <td>3</td>\n",
              "      <td>12/5/15 16:54</td>\n",
              "      <td>NaN</td>\n",
              "      <td>NaN</td>\n",
              "      <td>no</td>\n",
              "      <td>1.000</td>\n",
              "      <td>wsj_399019502</td>\n",
              "      <td>8/21/07</td>\n",
              "      <td>The Morning Brief: White House Seeks to Limit ...</td>\n",
              "      <td>NaN</td>\n",
              "      <td>NaN</td>\n",
              "      <td>The Wall Street Journal Online&lt;/br&gt;&lt;/br&gt;The Mo...</td>\n",
              "    </tr>\n",
              "    <tr>\n",
              "      <th>2</th>\n",
              "      <td>842613457</td>\n",
              "      <td>False</td>\n",
              "      <td>finalized</td>\n",
              "      <td>3</td>\n",
              "      <td>12/5/15 1:59</td>\n",
              "      <td>NaN</td>\n",
              "      <td>NaN</td>\n",
              "      <td>no</td>\n",
              "      <td>1.000</td>\n",
              "      <td>wsj_398284048</td>\n",
              "      <td>11/14/91</td>\n",
              "      <td>Banking Bill Negotiators Set Compromise --- Pl...</td>\n",
              "      <td>NaN</td>\n",
              "      <td>NaN</td>\n",
              "      <td>WASHINGTON -- In an effort to achieve banking ...</td>\n",
              "    </tr>\n",
              "    <tr>\n",
              "      <th>3</th>\n",
              "      <td>842613458</td>\n",
              "      <td>False</td>\n",
              "      <td>finalized</td>\n",
              "      <td>3</td>\n",
              "      <td>12/5/15 2:19</td>\n",
              "      <td>NaN</td>\n",
              "      <td>0.0000</td>\n",
              "      <td>no</td>\n",
              "      <td>0.675</td>\n",
              "      <td>wsj_397959018</td>\n",
              "      <td>6/16/86</td>\n",
              "      <td>Manager's Journal: Sniffing Out Drug Abusers I...</td>\n",
              "      <td>NaN</td>\n",
              "      <td>NaN</td>\n",
              "      <td>The statistics on the enormous costs of employ...</td>\n",
              "    </tr>\n",
              "    <tr>\n",
              "      <th>4</th>\n",
              "      <td>842613459</td>\n",
              "      <td>False</td>\n",
              "      <td>finalized</td>\n",
              "      <td>3</td>\n",
              "      <td>12/5/15 17:48</td>\n",
              "      <td>3.0</td>\n",
              "      <td>0.3257</td>\n",
              "      <td>yes</td>\n",
              "      <td>0.640</td>\n",
              "      <td>wsj_398838054</td>\n",
              "      <td>10/4/02</td>\n",
              "      <td>Currency Trading: Dollar Remains in Tight Rang...</td>\n",
              "      <td>NaN</td>\n",
              "      <td>NaN</td>\n",
              "      <td>NEW YORK -- Indecision marked the dollar's ton...</td>\n",
              "    </tr>\n",
              "  </tbody>\n",
              "</table>\n",
              "</div>"
            ],
            "text/plain": [
              "    _unit_id  ...                                               text\n",
              "0  842613455  ...  NEW YORK -- Yields on most certificates of dep...\n",
              "1  842613456  ...  The Wall Street Journal Online</br></br>The Mo...\n",
              "2  842613457  ...  WASHINGTON -- In an effort to achieve banking ...\n",
              "3  842613458  ...  The statistics on the enormous costs of employ...\n",
              "4  842613459  ...  NEW YORK -- Indecision marked the dollar's ton...\n",
              "\n",
              "[5 rows x 15 columns]"
            ]
          },
          "metadata": {
            "tags": []
          },
          "execution_count": 9
        }
      ]
    },
    {
      "cell_type": "code",
      "metadata": {
        "id": "FH-a5uwS2Dph"
      },
      "source": [
        "  #Convert label to a numerical value\r\n",
        "  data['relevance'] = data['relevance'].map({'yes': 1, 'no': 0})\r\n",
        "  \r\n",
        "  #For our model we are going to take only two features (labels and text)\r\n",
        "  final_df = data[['text','relevance']]\r\n"
      ],
      "execution_count": 11,
      "outputs": []
    },
    {
      "cell_type": "code",
      "metadata": {
        "id": "efk5ZBcA2ofF"
      },
      "source": [
        ""
      ],
      "execution_count": null,
      "outputs": []
    },
    {
      "cell_type": "markdown",
      "metadata": {
        "id": "JDS-YdYn2sld"
      },
      "source": [
        "## Text Preprocessing \r\n",
        "\r\n",
        "Typical steps involve tokenization, lower casing, removing, stop words, punctuation markers etc, and vectorization. Other processes such as stemming/lemmatization can also be performed. Here, we are performing the following steps: removing br tags, punctuation, numbers, and stopwords. While we are using sklearn's list of stopwords, there are several other stop word lists (e.g., from NLTK) or sometimes, custom stopword lists are needed depending on the task."
      ]
    },
    {
      "cell_type": "code",
      "metadata": {
        "id": "xmX79tkr2xmZ"
      },
      "source": [
        "stopwords = stop_words.ENGLISH_STOP_WORDS\r\n",
        "def clean(doc): #doc is a string of text\r\n",
        "    doc = doc.replace(\"</br>\", \" \") #This text contains a lot of <br/> tags.\r\n",
        "    doc = \"\".join([char for char in doc if char not in string.punctuation and not char.isdigit()])\r\n",
        "    doc = \" \".join([token for token in doc.split() if token not in stopwords])\r\n",
        "    #remove punctuation and numbers\r\n",
        "    return doc"
      ],
      "execution_count": 21,
      "outputs": []
    },
    {
      "cell_type": "code",
      "metadata": {
        "colab": {
          "base_uri": "https://localhost:8080/"
        },
        "id": "DSFpnGxi3YTO",
        "outputId": "f5fe27a7-803c-479f-b5c8-64239d812457"
      },
      "source": [
        "final_df.dropna(inplace=True)"
      ],
      "execution_count": 51,
      "outputs": [
        {
          "output_type": "stream",
          "text": [
            "/usr/local/lib/python3.6/dist-packages/ipykernel_launcher.py:1: SettingWithCopyWarning: \n",
            "A value is trying to be set on a copy of a slice from a DataFrame\n",
            "\n",
            "See the caveats in the documentation: https://pandas.pydata.org/pandas-docs/stable/user_guide/indexing.html#returning-a-view-versus-a-copy\n",
            "  \"\"\"Entry point for launching an IPython kernel.\n"
          ],
          "name": "stderr"
        }
      ]
    },
    {
      "cell_type": "markdown",
      "metadata": {
        "id": "0E9nOnaN3a_l"
      },
      "source": [
        "## Modelling \r\n",
        "\r\n",
        "Now we are ready for the modelling. We are going to use algorithms from sklearn package. We will go through the following steps:\r\n",
        "\r\n",
        "1 Split the data into training and test sets (75% train, 25% test)\r\n",
        "\r\n",
        "2 Extract features from the training data using CountVectorizer, which is a bag of words feature implementation. We will use the pre-processing function above in conjunction with Count Vectorizer\r\n",
        "\r\n",
        "3 Transform the test data into the same feature vector as the training data.\r\n",
        "\r\n",
        "4 Train the classifier\r\n",
        "\r\n",
        "5 Evaluate the classifier"
      ]
    },
    {
      "cell_type": "code",
      "metadata": {
        "id": "ST4O5N5i7nYH"
      },
      "source": [
        "X = final_df.text\r\n",
        "y = final_df.relevance"
      ],
      "execution_count": 52,
      "outputs": []
    },
    {
      "cell_type": "code",
      "metadata": {
        "colab": {
          "base_uri": "https://localhost:8080/"
        },
        "id": "6986U8Rl3du0",
        "outputId": "e1afd4d3-68e3-4e5a-f80d-bfdcdab28598"
      },
      "source": [
        "from sklearn.model_selection import train_test_split\r\n",
        "\r\n",
        "#Step:1 train_test_split\r\n",
        "\r\n",
        "\r\n",
        "\r\n",
        "#Split X and Y into training and testing sets.\r\n",
        "X_train, X_test, y_train, y_test = train_test_split(X, y, random_state=2018)\r\n",
        "print(X_train.shape)\r\n",
        "print(X_test.shape)"
      ],
      "execution_count": 53,
      "outputs": [
        {
          "output_type": "stream",
          "text": [
            "(5993,)\n",
            "(1998,)\n"
          ],
          "name": "stdout"
        }
      ]
    },
    {
      "cell_type": "code",
      "metadata": {
        "colab": {
          "base_uri": "https://localhost:8080/"
        },
        "id": "0AjwFZiF4evN",
        "outputId": "f559a813-fa51-41dd-d713-86ccd5b6acab"
      },
      "source": [
        "#Step 2-3: Preprocess and Vectorize train and test data\r\n",
        "vect = CountVectorizer(preprocessor=clean) #instantiate a vectoriezer\r\n",
        "X_train_dtm = vect.fit_transform(X_train)#use it to extract features from training data\r\n",
        "#transform testing data (using training data's features)\r\n",
        "X_test_dtm = vect.transform(X_test)\r\n",
        "print(X_train_dtm.shape, X_test_dtm.shape)\r\n",
        "#i.e., the dimension of our feature vector is 49753!"
      ],
      "execution_count": 54,
      "outputs": [
        {
          "output_type": "stream",
          "text": [
            "(5993, 49284) (1998, 49284)\n"
          ],
          "name": "stdout"
        }
      ]
    },
    {
      "cell_type": "code",
      "metadata": {
        "colab": {
          "base_uri": "https://localhost:8080/"
        },
        "id": "QXcanzgX5Wdh",
        "outputId": "fd9a409a-07c9-4412-e405-f1cd1af4388c"
      },
      "source": [
        "#Step 3: Train the classifier and predict for test data\r\n",
        "nb = MultinomialNB() #instantiate a Multinomial Naive Bayes model\r\n",
        "%time nb.fit(X_train_dtm, y_train)#train the model(timing it with an IPython \"magic command\")\r\n",
        "y_pred_class = nb.predict(X_test_dtm)#make class predictions for X_test_dtm"
      ],
      "execution_count": 55,
      "outputs": [
        {
          "output_type": "stream",
          "text": [
            "CPU times: user 12.3 ms, sys: 1.01 ms, total: 13.3 ms\n",
            "Wall time: 18.1 ms\n"
          ],
          "name": "stdout"
        }
      ]
    },
    {
      "cell_type": "code",
      "metadata": {
        "colab": {
          "base_uri": "https://localhost:8080/",
          "height": 494
        },
        "id": "rjP1N5rA58Rd",
        "outputId": "ca5c43ae-f38d-4d6b-9342-c59cbcc578ea"
      },
      "source": [
        "#Evaluate the classifier using various metrics\r\n",
        "\r\n",
        "import itertools\r\n",
        "from sklearn.metrics import roc_auc_score\r\n",
        "\r\n",
        "def plot_confusion_matrix(cm, classes,\r\n",
        "                          normalize=False,\r\n",
        "                          title='Confusion matrix',\r\n",
        "                          cmap=plt.cm.Blues):\r\n",
        "    \"\"\"\r\n",
        "    This function prints and plots the confusion matrix.\r\n",
        "    Normalization can be applied by setting `normalize=True`.\r\n",
        "    \"\"\"\r\n",
        "    if normalize:\r\n",
        "        cm = cm.astype('float') / cm.sum(axis=1)[:, np.newaxis]\r\n",
        "\r\n",
        "    plt.imshow(cm, interpolation='nearest', cmap=cmap)\r\n",
        "    plt.title(title)\r\n",
        "    plt.colorbar()\r\n",
        "    tick_marks = np.arange(len(classes))\r\n",
        "    plt.xticks(tick_marks, classes, rotation=45)\r\n",
        "    plt.yticks(tick_marks, classes)\r\n",
        "\r\n",
        "    fmt = '.2f' if normalize else 'd'\r\n",
        "    thresh = cm.max() / 2.\r\n",
        "    for i, j in itertools.product(range(cm.shape[0]), range(cm.shape[1])):\r\n",
        "        plt.text(j, i, format(cm[i, j], fmt),\r\n",
        "                 horizontalalignment=\"center\",\r\n",
        "                 color=\"white\" if cm[i, j] > thresh else \"black\")\r\n",
        "\r\n",
        "    plt.tight_layout()\r\n",
        "    plt.ylabel('True label',fontsize=15)\r\n",
        "    plt.xlabel('Predicted label',fontsize=15)\r\n",
        "    \r\n",
        "    \r\n",
        "#Print accuracy:\r\n",
        "print(\"Accuracy: \", accuracy_score(y_test, y_pred_class))\r\n",
        "\r\n",
        "    \r\n",
        "# print the confusion matrix\r\n",
        "cnf_matrix = confusion_matrix(y_test, y_pred_class)\r\n",
        "plt.figure(figsize=(8,6))\r\n",
        "plot_confusion_matrix(cnf_matrix, classes=['Not Relevant','Relevant'],normalize=True,\r\n",
        "                      title='Confusion matrix with all features')\r\n",
        "\r\n",
        "y_pred_prob = nb.predict_proba(X_test_dtm)[:, 1]\r\n",
        "print(\"ROC_AOC_Score: \", roc_auc_score(y_test, y_pred_prob))"
      ],
      "execution_count": 57,
      "outputs": [
        {
          "output_type": "stream",
          "text": [
            "Accuracy:  0.7772772772772772\n",
            "ROC_AOC_Score:  0.7426058340050667\n"
          ],
          "name": "stdout"
        },
        {
          "output_type": "display_data",
          "data": {
            "image/png": "[encoded data removed]",
            "text/plain": [
              "<Figure size 576x432 with 2 Axes>"
            ]
          },
          "metadata": {
            "tags": [],
            "needs_background": "light"
          }
        }
      ]
    },
    {
      "cell_type": "markdown",
      "metadata": {
        "id": "mEjcPUyT9lau"
      },
      "source": [
        "At this point, we can notice that the classifier is doing poorly with identifying relevant articles, while it is doing well with non-relevant ones. Our large feature vector could be creating a lot of noise in the form of very rarely occurring features that are not useful for learning. Let us change the count vectorizer to take a certain number of features as maximum."
      ]
    },
    {
      "cell_type": "code",
      "metadata": {
        "colab": {
          "base_uri": "https://localhost:8080/",
          "height": 477
        },
        "id": "cvH6dqhj9nZE",
        "outputId": "4127d45a-61e4-4373-dcfe-38fb27c1ae4d"
      },
      "source": [
        "vect = CountVectorizer(preprocessor=clean, max_features=5000)\r\n",
        "X_train_dtm = vect.fit_transform(X_train)\r\n",
        "X_test_dtm = vect.transform(X_test)\r\n",
        "nb = MultinomialNB()\r\n",
        "nb.fit(X_train_dtm, y_train)\r\n",
        "y_preds_class = nb.predict(X_test_dtm)\r\n",
        "\r\n",
        "#print the confusion matrix\r\n",
        "print(\"Accuracy: \", metrics.accuracy_score(y_test, y_preds_class))\r\n",
        "cnf_mmatrix = confusion_matrix(y_test, y_preds_class)\r\n",
        "plt.figure(figsize=(8,6))\r\n",
        "plot_confusion_matrix(cnf_mmatrix, classes=['Not Relevant','Relevant'],normalize=True,\r\n",
        "                      title='Confusion matrix with max 5000 features')\r\n",
        "\r\n"
      ],
      "execution_count": 64,
      "outputs": [
        {
          "output_type": "stream",
          "text": [
            "Accuracy:  0.6906906906906907\n"
          ],
          "name": "stdout"
        },
        {
          "output_type": "display_data",
          "data": {
            "image/png": "[encoded data removed]",
            "text/plain": [
              "<Figure size 576x432 with 2 Axes>"
            ]
          },
          "metadata": {
            "tags": [],
            "needs_background": "light"
          }
        }
      ]
    },
    {
      "cell_type": "markdown",
      "metadata": {
        "id": "Jio-nOao_cWx"
      },
      "source": [
        "Clearly, the performance on relevance classification got better even though the overall accuracy fell by 10%. Let us try another classification algorithm and see if the performance changes. For this experiment, we have considered logistic regression, with class_weight attribute as \"balanced\", to address the problem of class imbalance in this dataset."
      ]
    },
    {
      "cell_type": "code",
      "metadata": {
        "colab": {
          "base_uri": "https://localhost:8080/",
          "height": 628
        },
        "id": "fZ-5A4DN_kSW",
        "outputId": "c376b64d-de4b-41a2-dba0-7ed7427bf961"
      },
      "source": [
        "from sklearn.linear_model import LogisticRegression\r\n",
        "\r\n",
        "logreg = LogisticRegression(class_weight='balanced')\r\n",
        "logreg.fit(X_train_dtm, y_train)\r\n",
        "y_pred_class = logreg.predict(X_test_dtm)\r\n",
        "\r\n",
        "#Calculate evaluation metrics\r\n",
        "print('Accuracy: ', accuracy_score(y_test, y_pred_class))\r\n",
        "print('AUC:', roc_auc_score(y_test, y_pred_class))\r\n",
        "cnf_matrix = confusion_matrix(y_test, y_pred_class)\r\n",
        "plt.figure(figsize=(8,6))\r\n",
        "plot_confusion_matrix(cnf_matrix, classes=['Not Relevant','Relevant'],normalize=True,\r\n",
        "                      title='Confusion matrix with normalization')"
      ],
      "execution_count": 67,
      "outputs": [
        {
          "output_type": "stream",
          "text": [
            "/usr/local/lib/python3.6/dist-packages/sklearn/linear_model/_logistic.py:940: ConvergenceWarning: lbfgs failed to converge (status=1):\n",
            "STOP: TOTAL NO. of ITERATIONS REACHED LIMIT.\n",
            "\n",
            "Increase the number of iterations (max_iter) or scale the data as shown in:\n",
            "    https://scikit-learn.org/stable/modules/preprocessing.html\n",
            "Please also refer to the documentation for alternative solver options:\n",
            "    https://scikit-learn.org/stable/modules/linear_model.html#logistic-regression\n",
            "  extra_warning_msg=_LOGISTIC_SOLVER_CONVERGENCE_MSG)\n"
          ],
          "name": "stderr"
        },
        {
          "output_type": "stream",
          "text": [
            "Accuracy:  0.7242242242242243\n",
            "AUC: 0.5831648002072778\n"
          ],
          "name": "stdout"
        },
        {
          "output_type": "display_data",
          "data": {
            "image/png": "[encoded data removed]",
            "text/plain": [
              "<Figure size 576x432 with 2 Axes>"
            ]
          },
          "metadata": {
            "tags": [],
            "needs_background": "light"
          }
        }
      ]
    },
    {
      "cell_type": "code",
      "metadata": {
        "id": "gzQEmpqxAJd_"
      },
      "source": [
        ""
      ],
      "execution_count": null,
      "outputs": []
    },
    {
      "cell_type": "markdown",
      "metadata": {
        "id": "q-hG893yAT2P"
      },
      "source": [
        "It did not work out well for Logistic regression with balanced class lets see what the result would be if we wouldnt have selected balanced class weights."
      ]
    },
    {
      "cell_type": "code",
      "metadata": {
        "colab": {
          "base_uri": "https://localhost:8080/",
          "height": 628
        },
        "id": "zj1FC6laAcsx",
        "outputId": "41440e13-92d1-4f88-8e0d-34e73560aec2"
      },
      "source": [
        "logreg = LogisticRegression()\r\n",
        "logreg.fit(X_train_dtm, y_train)\r\n",
        "y_pred_class = logreg.predict(X_test_dtm)\r\n",
        "\r\n",
        "#Calculate evaluation metrics\r\n",
        "print('Accuracy: ', accuracy_score(y_test, y_pred_class))\r\n",
        "print('AUC:', roc_auc_score(y_test, y_pred_class))\r\n",
        "cnf_matrix = confusion_matrix(y_test, y_pred_class)\r\n",
        "plt.figure(figsize=(8,6))\r\n",
        "plot_confusion_matrix(cnf_matrix, classes=['Not Relevant','Relevant'],normalize=True,\r\n",
        "                      title='Confusion matrix with normalization')"
      ],
      "execution_count": 68,
      "outputs": [
        {
          "output_type": "stream",
          "text": [
            "/usr/local/lib/python3.6/dist-packages/sklearn/linear_model/_logistic.py:940: ConvergenceWarning: lbfgs failed to converge (status=1):\n",
            "STOP: TOTAL NO. of ITERATIONS REACHED LIMIT.\n",
            "\n",
            "Increase the number of iterations (max_iter) or scale the data as shown in:\n",
            "    https://scikit-learn.org/stable/modules/preprocessing.html\n",
            "Please also refer to the documentation for alternative solver options:\n",
            "    https://scikit-learn.org/stable/modules/linear_model.html#logistic-regression\n",
            "  extra_warning_msg=_LOGISTIC_SOLVER_CONVERGENCE_MSG)\n"
          ],
          "name": "stderr"
        },
        {
          "output_type": "stream",
          "text": [
            "Accuracy:  0.7612612612612613\n",
            "AUC: 0.5718976710041456\n"
          ],
          "name": "stdout"
        },
        {
          "output_type": "display_data",
          "data": {
            "image/png": "[encoded data removed]",
            "text/plain": [
              "<Figure size 576x432 with 2 Axes>"
            ]
          },
          "metadata": {
            "tags": [],
            "needs_background": "light"
          }
        }
      ]
    },
    {
      "cell_type": "markdown",
      "metadata": {
        "id": "oCLhcminAiMm"
      },
      "source": [
        "Well its worse than before. So now lets wra this u by tring one more Classifier and reduce our feature size to be somewhere around 1000."
      ]
    },
    {
      "cell_type": "code",
      "metadata": {
        "colab": {
          "base_uri": "https://localhost:8080/",
          "height": 547
        },
        "id": "rvf4ePOIAnEC",
        "outputId": "d9856ab9-4146-48df-e5fa-94a2951cc08d"
      },
      "source": [
        "vect = CountVectorizer(preprocessor=clean, max_features=1000)\r\n",
        "X_train_dtm = vect.fit_transform(X_train)\r\n",
        "X_test_dtm = vect.transform(X_test)\r\n",
        "\r\n",
        "classifier = LinearSVC(class_weight='balanced')\r\n",
        "classifier.fit(X_train_dtm, y_train)\r\n",
        "y_preds_classes = classifier.predict(X_test_dtm)\r\n",
        "\r\n",
        "#Evaluation metrics\r\n",
        "print('Accuracy :', accuracy_score(y_test, y_preds_classes))\r\n",
        "print('AUC Score: ', roc_auc_score(y_test, y_preds_classes))\r\n",
        "cnf_matrix = confusion_matrix(y_test, y_preds_classes)\r\n",
        "plt.figure(figsize=(8,6))\r\n",
        "plot_confusion_matrix(cnf_matrix, classes=['Not Relevant','Relevant'],normalize=True,\r\n",
        "                      title='Confusion matrix with normalization')"
      ],
      "execution_count": 72,
      "outputs": [
        {
          "output_type": "stream",
          "text": [
            "/usr/local/lib/python3.6/dist-packages/sklearn/svm/_base.py:947: ConvergenceWarning: Liblinear failed to converge, increase the number of iterations.\n",
            "  \"the number of iterations.\", ConvergenceWarning)\n"
          ],
          "name": "stderr"
        },
        {
          "output_type": "stream",
          "text": [
            "Accuracy : 0.6956956956956957\n",
            "AUC Score:  0.6234706068631966\n"
          ],
          "name": "stdout"
        },
        {
          "output_type": "display_data",
          "data": {
            "image/png": "[encoded data removed]",
            "text/plain": [
              "<Figure size 576x432 with 2 Axes>"
            ]
          },
          "metadata": {
            "tags": [],
            "needs_background": "light"
          }
        }
      ]
    },
    {
      "cell_type": "markdown",
      "metadata": {
        "id": "yk28fXusCqU3"
      },
      "source": [
        "\r\n",
        "So, how do we choose whats the best? If we look at overall accuracy alone, we should be choosing the very first classifier in this notebook. However, that is also doing poorly with identifying \"relevant\" articles. If we choose purely based on how good it is doing with \"relevant\" category, we should choose the second one we built. If we choose purely based on how good it is doing with \"irrelevant\" category, surely, nothing beats not building any classifier and just calling everything irrelevant! So, what to choose as the best among these depends on what we are looking for in our usecase!"
      ]
    }
  ]
}